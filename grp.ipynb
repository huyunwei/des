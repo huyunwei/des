{
 "cells": [
  {
   "cell_type": "markdown",
   "metadata": {},
   "source": [
    "# DRA model & Ram Deck\n",
    "## The GRP Model for Parametric Recurrent Event Data Analysis\n",
    "[Quoted from ref 1. Fix typo in type II eq.]\n",
    "In this model, the concept of virtual age is introduced. Denote by t1,t2,...,tn the successive failure times and let x1,x2,...,x3 represent the time between failures. Assume that after each event, actions are taken to improve the system performance. Let q be the action effectiveness factor. There are two GRP models.\n",
    " \n",
    "Type I:  $v_i = v_{i-1} + q \\cdot x_i = q \\cdot t_i$\n",
    " \n",
    "Type II: $v_i = q \\cdot (v_{i-1} +  x_i )= \\sum_{k=1}^i q^{i-k+1} \\cdot x_k$\n",
    "\n",
    "where $v_i$ is the virtual age of the system right after the ith repair. The Type I model assumes that the ith repair cannot remove the damage incurred before the ith failure. It can only reduce the additional age $x_i$ to $q \\cdot x_i$. The Type II model assumes that at the ith repair, the virtual age has been accumulated to $v_{i-1} + x_i$. The ith repair will remove the cumulative damage from both current and previous failures by reducing the virtual age to $q \\cdot (v_{i-1} + x_i )$.\n",
    "\n",
    "The power law function is used to model the rate of recurrence, which is: $\\lambda(t) = \\lambda\\beta t^{\\beta-1}$\n",
    "\n",
    "The conditional pdf is $f(t_i|t_{i-1}) = \\lambda \\beta (x_i + v_{i-1})^{\\beta-1} \\cdot e^{-\\lambda[(x_i + v_{i-1})^\\beta - V_{i-1}^\\beta]}$\n",
    "\n",
    "Comparing the ROCOF with Weibull hazard function, we can get: $\\lambda = \\frac{1}{\\eta^\\beta}$ or $\\eta = (\\frac{1}{\\lambda})^{\\frac{1}{\\beta}}$\n",
    "\n",
    "## Approximation\n",
    "\n",
    "There is no close form for the renewal function E(N(t)) of General Renewal Process. Monte Carlo simulation can be used but it is desirable to find an approximation equation of renewal function to feed into the RAM Deck. "
   ]
  },
  {
   "cell_type": "code",
   "execution_count": 1,
   "metadata": {},
   "outputs": [],
   "source": [
    "# preparing the code\n",
    "import matplotlib.pyplot as plt\n",
    "import numpy as np\n",
    "import time # only to track running time.\n",
    "# x = ro.r('rweibull(n,shape = 2, scale)')\n",
    "# x = scale * np.random.weibull(shape, n)\n",
    "\n",
    "# use Bokeh for visulisation\n",
    "from bokeh.io import output_file,  output_notebook, show\n",
    "from bokeh.layouts import gridplot\n",
    "from bokeh.plotting import figure\n",
    "from bokeh import palettes\n",
    "\n",
    "# a little preparation for interpolation\n",
    "from scipy.interpolate import interp1d\n",
    "from math import log10, floor"
   ]
  },
  {
   "cell_type": "markdown",
   "metadata": {},
   "source": [
    "## Simulation based on RAD analysis\n",
    "\n",
    "Port the code from **Ken's** matlab to python for speed.\n",
    "\n",
    "Define funtion simRDA for simulation of type 1 renewal process. \n",
    "- Generating time to first failure - Weibull\n",
    "- Generating time to ith failure, conditional Weibull - inverse CDF\n",
    "- Type 1 general renewal process, $age_{virtual} = q \\cdot time_i$"
   ]
  },
  {
   "cell_type": "code",
   "execution_count": 2,
   "metadata": {
    "collapsed": true
   },
   "outputs": [],
   "source": [
    "def simRDA(alpha, beta, q, n_failure, n_sim):\n",
    "    n_failure = int(n_failure)\n",
    "    n_sim = int(n_sim)\n",
    "    print(type(n_failure))\n",
    "    ttf = np.empty([n_failure, n_sim])\n",
    "    v_time = np.empty(n_sim)\n",
    "\n",
    "# generate time to 1st failure, scale = alpha, shape = beta\n",
    "    ttf[0,:] = np.random.weibull(beta, n_sim) * alpha\n",
    "    v_time = ttf[0, :] * q\n",
    "\n",
    "# generating time to ith failure - inverse CDF\n",
    "    for i in range(1, n_failure) :\n",
    "        ttf[i, : ] = alpha * (((v_time/alpha) ** beta - np.log(1-np.random.random_sample(n_sim))) **(1. /beta)) - v_time + ttf[i-1, : ]\n",
    "        v_time = q * ttf[i, : ]\n",
    "    return ttf"
   ]
  },
  {
   "cell_type": "markdown",
   "metadata": {},
   "source": [
    "### Test the simulation \n",
    "The simulation is faster than same code in R or matlab."
   ]
  },
  {
   "cell_type": "markdown",
   "metadata": {},
   "source": [
    "### Data Analysis of renewal process\n",
    "Arrival time is the time nth event happens. E(nth Arrival time) and the Renewal function E(N(t)) is not same."
   ]
  },
  {
   "cell_type": "code",
   "execution_count": 4,
   "metadata": {},
   "outputs": [
    {
     "name": "stdout",
     "output_type": "stream",
     "text": [
      "[  44276.24029249   73797.62082974   97215.25034356  117103.20022985\n",
      "  134655.16235328  150486.43723699  165032.54008947  178548.94482681\n",
      "  191227.22000194  203204.51376036  214567.48191559  225395.70596781\n",
      "  235769.11732534  245735.21406676  255347.43369508  264614.77250668\n",
      "  273602.56932296  282326.47429279  290809.62507564  299055.02454507\n",
      "  307099.28530251  314943.26820281  322599.02083137  330079.54069514\n",
      "  337398.59899693  344594.1242844   351634.7296359   358532.28587309\n",
      "  365309.62648392  371962.36345461  378514.07731002  384946.24532968\n",
      "  391286.6531885   397532.9154637   403688.46454963  409735.10006819\n",
      "  415709.36552236  421602.63905134  427422.58967384  433144.31610918]\n",
      "0.020747474999999998\n",
      "0.020747475\n"
     ]
    }
   ],
   "source": [
    "E_arrival_time = np.mean(ttf, axis=1)\n",
    "print(E_arrival_time)\n",
    "# prob(count = n, t<time)\n",
    "def prob(count, time, ttf):\n",
    "    nth = ttf[count-1, :]\n",
    "    return nth[nth < time].size/ttf.size\n",
    "print(prob(2, alpha, ttf) + prob(1,alpha, ttf))\n",
    "\n",
    "# prob(count < n, t<time)\n",
    "def cumProb(count, time, ttf):\n",
    "    to_n = ttf[0:count, :]\n",
    "    return to_n[to_n < time].size/ttf.size\n",
    "print(cumProb(2, alpha, ttf))"
   ]
  },
  {
   "cell_type": "markdown",
   "metadata": {},
   "source": [
    "### Calculate Renewal Function based on simulation results\n",
    "For counting process, N ≡ {N(t) : t ≥ 0},  Renewal function m(t) ≡ E[N(t)]."
   ]
  },
  {
   "cell_type": "markdown",
   "metadata": {},
   "source": [
    "As we can see from above, the E(N(t)) at average arrival time of nth failure do not equal to n. \n",
    "\n",
    "### Ken's proposed approximation\n",
    "\n",
    "#### Full Repair_Deterministic\n",
    "Based on Ref[2]: $M[i] = F[i]+ \\sum_{i=0}^{n} ( M[n-i] \\cdot cdf_d[i])$\n",
    "\n",
    "#### Minimal Repair_Deterministic\n",
    "$H = (\\frac{t}{\\alpha})^\\beta$; \n",
    "\n",
    "#### Partial Repair_Deterministic (Proposed)\n",
    "$$MH = q \\cdot H+ (1-q) \\cdot M$$"
   ]
  },
  {
   "cell_type": "code",
   "execution_count": 21,
   "metadata": {},
   "outputs": [
    {
     "name": "stdout",
     "output_type": "stream",
     "text": [
      "42.176018189\n"
     ]
    }
   ],
   "source": [
    "def H_t(alpha, beta, time, n_step=1000):\n",
    "    time_step = np.linspace(0, time, n_step)\n",
    "    return  (time_step/alpha) ** beta\n",
    "\n",
    "def M_t(alpha, beta, time, n_step=1000):\n",
    "    time_step = np.linspace(0, time, n_step)\n",
    "    cdf = 1 - np.exp(- (time_step / alpha) ** beta)\n",
    "    d_cdf = np.concatenate(([cdf[0]], np.diff(cdf)), axis=0)\n",
    "# Full Repair_Deterministic\n",
    "    m = np.zeros(n_step) \n",
    "    for i in range(n_step-1):\n",
    "        m[i+1] = cdf[i+1] + np.sum( np.multiply(m[i::-1], d_cdf[0:i+1]))\n",
    "    return m\n",
    "\n",
    "def mh(alpha, beta, q, time, n_step=1000):\n",
    "    return q * H_t(alpha, beta, time, n_step) + (1 - q) * M_t(alpha, beta, time, n_step)\n",
    "\n",
    "mht = mh(alpha, beta, q, max(E_arrival_time))\n",
    "print(mht[mht.size-1])\n",
    "\n",
    "# Clean the data before moving to next secction\n",
    "del alpha, beta, q, ttf, E_arrival_time"
   ]
  },
  {
   "cell_type": "markdown",
   "metadata": {},
   "source": [
    "### Compare Simulation vs. Approximation\n",
    "To compare the goodness of fit of the proposed $M(t)$ function, we try different shape factors c(0.5, 1, 1.5, 2, 4). Q will be set to c(0, 0.25, 05, 075, 1) for each shape factor. The scale factor will be set to 50000. "
   ]
  },
  {
   "cell_type": "code",
   "execution_count": null,
   "metadata": {
    "scrolled": true
   },
   "outputs": [
    {
     "name": "stdout",
     "output_type": "stream",
     "text": [
      "<class 'int'>\n",
      "<class 'int'>\n",
      "<class 'int'>\n",
      "<class 'int'>\n",
      "<class 'int'>\n",
      "<class 'int'>\n",
      "<class 'int'>\n",
      "<class 'int'>\n",
      "<class 'int'>\n",
      "<class 'int'>\n",
      "<class 'int'>\n",
      "<class 'int'>\n",
      "<class 'int'>\n",
      "<class 'int'>\n",
      "<class 'int'>\n",
      "<class 'int'>\n",
      "<class 'int'>\n",
      "<class 'int'>\n",
      "<class 'int'>\n",
      "<class 'int'>\n",
      "<class 'int'>\n",
      "<class 'int'>\n",
      "<class 'int'>\n",
      "<class 'int'>\n",
      "<class 'int'>\n",
      "<class 'int'>\n",
      "<class 'int'>\n",
      "<class 'int'>\n",
      "<class 'int'>\n"
     ]
    }
   ],
   "source": [
    "# Run the simulation and store the arrivial time, and renewal function E(N(t))\n",
    "\n",
    "# Define parameters\n",
    "q_list = [0, 0.25, 0.5, 0.75, 1]\n",
    "#q_list = [0.5, 0.75]\n",
    "beta_list = [0.5, 1, 1.5, 2, 3, 4]\n",
    "#beta_list = [ 1.5, 2]\n",
    "alpha = 50000\n",
    "n_sim = 1e6\n",
    "n_fail = 40\n",
    "maxtime = 1e6\n",
    "n_step = 1000\n",
    "time_step =  np.linspace(0, maxtime, n_step)\n",
    "\n",
    "# start clock\n",
    "start_time = time.time()\n",
    "\n",
    "paras = []\n",
    "mt = []\n",
    "ht = []\n",
    "mht = []\n",
    "ent = []\n",
    "E_arrival = []\n",
    "# mt, ht are function of (alpha, beta). The results are stored in a list of len(beta_list)\n",
    "# mht, ent, arrivail time are function of (beta, q). The results are stored in a nested list [len(beta), [len(q)]]\n",
    "\n",
    "for i in range(len(beta_list)):\n",
    "    beta = beta_list[i]\n",
    "    mt.append( M_t(alpha, beta, maxtime, n_step))\n",
    "    ht.append( H_t(alpha, beta, maxtime, n_step))\n",
    "    mht_b = []\n",
    "    ent_b = []\n",
    "    E_arrival_b = []\n",
    "    for ii in range(len(q_list)):\n",
    "        q = q_list[ii]\n",
    "        paras.append([beta, q])\n",
    "        ttf = simRDA(alpha, beta, q, n_fail, n_sim)\n",
    "        mht_b.append(mh(alpha, beta, q, maxtime))\n",
    "        E_arrival_b.append(np.mean(ttf, axis=1))\n",
    "        ent_b.append(E_Nt(E_arrival_b[ii], ttf))        \n",
    "        del ttf\n",
    "    mht.append(mht_b)\n",
    "    E_arrival.append(E_arrival_b)\n",
    "    ent.append(ent_b)\n",
    "print(\"--- %s seconds ---\" % (time.time() - start_time))"
   ]
  },
  {
   "cell_type": "code",
   "execution_count": null,
   "metadata": {
    "collapsed": true
   },
   "outputs": [],
   "source": [
    "# Visualization goes here\n",
    "# Parameters from last cell\n",
    "\n",
    "fig = []\n",
    "\n",
    "\n",
    "for i in range(len(beta_list)):\n",
    "    beta = beta_list[i]\n",
    "    p = figure(title = \"\\u03B2 = \" + str(beta), x_axis_label='time', y_axis_label='Expected # of Repairs', y_range=(0,n_fail))\n",
    "    p.line(time_step, mt[i], legend=\"Replace\", line_width=4, line_color=\"red\")\n",
    "    p.line(time_step, ht[i], legend=\"Minimal Repair\", line_width=4, line_color=\"black\")\n",
    "    colors = palettes.viridis(len(q_list))\n",
    "    for ii in range(len(q_list)):\n",
    "        q = q_list[ii]\n",
    "        p.line(time_step, mht[i][ii], line_color=colors[ii], legend = \"q= \" + str(q), line_width=2)\n",
    "#        p.diamond(E_arrival_time, np.arange(n_fail)+1,  fill_color=colors[i], size=12)\n",
    "        p.circle(E_arrival[i][ii], ent[i][ii], fill_color=colors[ii], size=8)\n",
    "    p.legend.location = \"bottom_right\"\n",
    "    fig.append(p)\n",
    "#    exec(\"p\" + str(i) + \" = p\")\n",
    "#    print(\"p\" + str(i) + \" = p\")\n",
    "#    exec(\"fig.append(\" + \"p\" + str(i) + \")\")\n",
    "#    print(\"fig.append(\" + \"p\" + str(i) + \")\")\n",
    "gp = gridplot(*fig, ncols = 2)\n",
    "output_file(\"simRDA_multi_Beta.html\")\n",
    "show(gp)\n"
   ]
  },
  {
   "cell_type": "markdown",
   "metadata": {},
   "source": [
    "## Interpolation of the simulated result\n",
    "The interp1d class in scipy.interpolate is a convenient method to create a function based on fixed data points which can be evaluated anywhere within the domain defined by the given data using linear interpolation. \n",
    "- Use simRDA to generate events history given the parameters\n",
    "- Calculate E(N(t)) at points ...\n",
    "- Interpolating (cubic)"
   ]
  },
  {
   "cell_type": "code",
   "execution_count": null,
   "metadata": {},
   "outputs": [],
   "source": [
    "# define parameters\n",
    "def round_to_1(x):\n",
    "    return round(x, -int(floor(log10(abs(x)))))\n",
    "\n",
    "alpha = 50000.\n",
    "beta = 2.\n",
    "q = 0.5\n",
    "n_fail = 40\n",
    "n_sim = 1e6\n",
    "i_step = n_fail\n",
    "\n",
    "start_time = time.time()\n",
    "\n",
    "ttf = simRDA(alpha, beta, q, n_fail, n_sim)\n",
    "\n",
    "E_arrival = np.mean(ttf, axis=1)\n",
    "maxtime = round_to_1(max(E_arrival) * 1.2)\n",
    "\n",
    "time_step = np.linspace(0, maxtime, i_step)\n",
    "\n",
    "ent = E_Nt(time_step, ttf)\n",
    "\n",
    "ent_interpf = interp1d(time_step, ent, kind='cubic')\n",
    "\n",
    "time_new = np.linspace(0, maxtime, 1000)\n",
    "\n",
    "p = figure(title = \"Interpolated Renewal Function\", x_axis_label='time', y_axis_label='Expected # of Repairs')\n",
    "p.line(time_new, ent_interpf(time_new), legend=\"interpolation\")\n",
    "p.circle(time_step, ent, legend = \"simulation\")\n",
    "p.legend.location = \"bottom_right\"\n",
    "print(\"--- %s seconds ---\" % (time.time() - start_time))"
   ]
  },
  {
   "cell_type": "code",
   "execution_count": null,
   "metadata": {},
   "outputs": [],
   "source": [
    "output_notebook()\n",
    "output_file(\"simRDA_interp.html\")\n",
    "show(p, notebook_handle = True)"
   ]
  },
  {
   "cell_type": "markdown",
   "metadata": {},
   "source": [
    "# to do\n",
    "Given the parameter from data analysis $\\lambda, \\beta, q$, a one-million-run simuation to obtain the interpolation may take only several seconds on my i7 laptop. \n",
    "\n",
    "Check whether LDM database can take the above python code. \n"
   ]
  },
  {
   "cell_type": "markdown",
   "metadata": {},
   "source": [
    "# Reference\n",
    "1. RDA, Weibull++; http://www.weibull.com/hotwire/issue59/relbasics59.htm\n",
    "2. Saeed Maghsoodloo and Dilcu Helvaci, “Renewal and Renewal-Intensity Functions with Minimal Repair,” Journal of Quality and Reliability Engineering, vol. 2014, Article ID 857437, 10 pages, 2014. doi:10.1155/2014/857437\n",
    "3. E. Smeitink and R. Dekker, \"A simple approximation to the renewal function [reliability theory],\" in IEEE Transactions on Reliability, vol. 39, no. 1, pp. 71-75, Apr 1990."
   ]
  },
  {
   "cell_type": "markdown",
   "metadata": {},
   "source": [
    "# Appendix\n",
    "## Weibull Random Numbers can be generated by R or Python\n",
    "The Weibull distribution with shape parameter a and scale parameter b has density given by\n",
    "\n",
    "$f(t) = \\frac{\\beta}{\\eta}(\\frac{t}{\\eta})^{\\beta-1}e^{- (\\frac{t}{\\eta})^\\beta}$ where $\\eta$ is the scale factor, and $\\beta$ is the shape factor.\n",
    "\n",
    "The hazard function $h(t) = \\frac{\\beta} {\\eta} (\\frac{t} {\\eta})^{\\beta-1}$\n",
    "\n",
    "\n",
    "For t > 0. The cumulative distribution function is $F(t) = 1 - e^{-(\\frac{t}{\\eta})^\\beta}$.\n",
    "\n",
    "### Use rpy2 package to call R random number generator: \n",
    "rweibull(n, shape, scale = 1)\n",
    "\n",
    "> import rpy2.robjects as ro\n",
    "\n",
    "> x = ro.r('rweibull(n, shape, scale =1)')\n",
    "\n",
    "### Use numpy Weibull random number generator\n",
    "numpy.random.weibull(a, size=None)\n",
    "Draw samples from a Weibull distribution.\n",
    "\n",
    "Draw samples from a 1-parameter Weibull distribution with the given shape parameter a.\n",
    "\n",
    "$X = (-\\ln(U))^\\frac{1}{a}$\n",
    "\n",
    "Here, U is drawn from the uniform distribution over (0,1].\n",
    "\n",
    "The more common 2-parameter Weibull, including a scale parameter $\\lambda$ is just $X = \\lambda(-\\ln(U))^\\frac{1}{a}$.\n",
    "\n",
    "Note to self, python index start at 0."
   ]
  },
  {
   "cell_type": "code",
   "execution_count": 11,
   "metadata": {
    "collapsed": true
   },
   "outputs": [],
   "source": [
    "#scrapbook window\n"
   ]
  }
 ],
 "metadata": {
  "kernelspec": {
   "display_name": "Python 3",
   "language": "python",
   "name": "python3"
  },
  "language_info": {
   "codemirror_mode": {
    "name": "ipython",
    "version": 3
   },
   "file_extension": ".py",
   "mimetype": "text/x-python",
   "name": "python",
   "nbconvert_exporter": "python",
   "pygments_lexer": "ipython3",
   "version": "3.6.4"
  }
 },
 "nbformat": 4,
 "nbformat_minor": 2
}
