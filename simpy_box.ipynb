{

"cells": [

  {

   "cell_type": "code",

   "execution_count": 17,

   "metadata": {},

   "outputs": [],

   "source": [

    "import random\n",

    "import simpy\n",

    "import numpy as np"

   ]

  },

  {

   "cell_type": "markdown",

   "metadata": {},

   "source": [

    "## Car Example\n",

    "Modified from the example for the official simpy [website](https://simpy.readthedocs.io/en/latest/simpy_intro/basic_concepts.html). \n",

    "\n",

    "- Random parking/trip time (lognormal)\n",

    "- Print '.2%f'\n",

    "- Add time units"

   ]

  },

  {

   "cell_type": "code",

   "execution_count": 2,

   "metadata": {},

   "outputs": [

    {

     "name": "stdout",

     "output_type": "stream",

     "text": [

      "Machine shop\n",

      "Start parking at 0.00 hours\n",

      "Parking for 6.18 hours\n",

      "Start driving at 6.18 hours\n",

      "Driving for 1.21 hours\n",

      "Start parking at 7.40 hours\n",

      "Parking for 15.16 hours\n",

      "Start driving at 22.56 hours\n",

      "Driving for 0.73 hours\n",

      "Start parking at 23.28 hours\n",

      "Parking for 6.55 hours\n",

      "Start driving at 29.84 hours\n",

      "Driving for 1.32 hours\n",

      "Start parking at 31.16 hours\n",

      "Parking for 4.16 hours\n",

      "Start driving at 35.32 hours\n",

      "Driving for 1.31 hours\n",

      "Start parking at 36.64 hours\n",

      "Parking for 1.91 hours\n",

      "Start driving at 38.55 hours\n",

      "Driving for 0.31 hours\n",

      "Start parking at 38.85 hours\n",

      "Parking for 9.43 hours\n",

      "Start driving at 48.28 hours\n",

      "Driving for 0.65 hours\n",

      "Start parking at 48.93 hours\n",

      "Parking for 19.07 hours\n",

      "Start driving at 68.00 hours\n",

      "Driving for 2.66 hours\n",

      "Start parking at 70.66 hours\n",

      "Parking for 99.63 hours\n"

     ]

    }

   ],

   "source": [

    "PARK_MU = 2\n",

    "PARK_SIGMA = 1\n",

    "TRIP_MU = 0.1\n",

    "TRIP_SIGMA = 1\n",

    "RANDOM_SEED = 123\n",

    "RUN_TIME = 100\n",

    "TIME_UNIT = \"hours\"\n",

    "\n",

    "def car(env):\n",

    "     while True:\n",

    "         print('Start parking at %.2f %s' % (env.now, TIME_UNIT))\n",

    "         parking_duration = random.lognormvariate(PARK_MU, PARK_SIGMA)\n",

    "         print('Parking for %.2f %s' % (parking_duration, TIME_UNIT))\n",

    "         yield env.timeout(parking_duration)\n",

    "\n",

    "         print('Start driving at %.2f %s' % (env.now, TIME_UNIT))\n",

    "         trip_duration = random.lognormvariate(TRIP_MU, TRIP_SIGMA)\n",

    "         print('Driving for %.2f %s' % (trip_duration, TIME_UNIT))\n",

    "         yield env.timeout(trip_duration)\n",

    "\n",

    "print('Machine shop')\n",

    "random.seed(RANDOM_SEED)  \n",

    "env = simpy.Environment()\n",

    "env.process(car(env))\n",

    "env.run(until = RUN_TIME)"

   ]

  },

  {

   "cell_type": "markdown",

   "metadata": {},

   "source": [

    "## Another Car Example\n",

    "Modified from the example for the official simpy website: [Process Interaction](https://simpy.readthedocs.io/en/latest/simpy_intro/process_interaction.html)"

   ]

  },

  {

   "cell_type": "code",

   "execution_count": 3,

   "metadata": {},

   "outputs": [

    {

     "name": "stdout",

     "output_type": "stream",

     "text": [

      "Start parking and charging at 0\n",

      "Was interrupted. Hope, the battery is full enough ...\n",

      "Start driving at 3\n",

      "Start parking and charging at 5\n",

      "Start driving at 10\n",

      "Start parking and charging at 12\n"

     ]

    }

   ],

   "source": [

    "def driver(env, car):\n",

    "     yield env.timeout(3)\n",

    "     car.action.interrupt()\n",

    "    \n",

    "class Car(object):\n",

    "    def __init__(self, env):\n",

    "        self.env = env\n",

    "        self.action = env.process(self.run())\n",

    "\n",

    "    def run(self):\n",

    "        while True:\n",

    "            print('Start parking and charging at %d' % self.env.now)\n",

    "            charge_duration = 5\n",

    "            # We may get interrupted while charging the battery\n",

    "            try:\n",

    "                yield self.env.process(self.charge(charge_duration))\n",

    "            except simpy.Interrupt:\n",

    "                # When we received an interrupt, we stop charging and\n",

    "                # switch to the \"driving\" state\n",

    "                print('Was interrupted. Hope, the battery is full enough ...')\n",

    "\n",

    "            print('Start driving at %d' % self.env.now)\n",

    "            trip_duration = 2\n",

    "            yield self.env.timeout(trip_duration)\n",

    "\n",

    "    def charge(self, duration):\n",

    "        yield self.env.timeout(duration)\n",

    "        \n",

    "env = simpy.Environment()\n",

    "car = Car(env)\n",

    "env.process(driver(env, car))\n",

    "env.run(until=15)"

   ]

  },

  {

   "cell_type": "markdown",

   "metadata": {},

   "source": [

    "## Car Example with Resource\n",

    "\n",

    "Modified from the example for the official simpy [website: Shared Resources](https://simpy.readthedocs.io/en/latest/simpy_intro/shared_resources.html)\n"

   ]

  },

  {

   "cell_type": "code",

   "execution_count": 5,

   "metadata": {},

   "outputs": [

    {

     "name": "stdout",

     "output_type": "stream",

     "text": [

      "Machine 0 failure starts at 0\n",

      "Machine 0 repair starts at 0\n",

      "Machine 1 failure starts at 2\n",

      "Machine 1 repair starts at 2\n",

      "Machine 2 failure starts at 4\n",

      "Machine 0 is repaired at 5\n",

      "Machine 2 repair starts at 5\n",

      "Machine 3 failure starts at 6\n",

      "Machine 1 is repaired at 7\n",

      "Machine 3 repair starts at 7\n",

      "Machine 2 is repaired at 10\n",

      "Machine 3 is repaired at 12\n"

     ]

    }

   ],

   "source": [

    "def machine(env, name, crew, time_to_failure, repair_duration):\n",

    "    while True:\n",

    "    # Simulate time_to_failure\n",

    "        yield env.timeout(time_to_failure)\n",

    "\n",

    "        # Request one of its crew\n",

    "        print('%s failure starts at %d' % (name, env.now))\n",

    "        with crew.request() as req:\n",

    "            yield req\n",

    "\n",

    "            # Repair\n",

    "            print('%s repair starts at %s' % (name, env.now))\n",

    "            yield env.timeout(repair_duration)\n",

    "            print('%s is repaired at %s' % (name, env.now))\n",

    "\n",

    "import simpy\n",

    "env = simpy.Environment()\n",

    "crew = simpy.Resource(env, capacity=2)\n",

    "\n",

    "for i in range(4):\n",

    "    env.process(machine(env, 'Machine %d' % i, crew, i*2, 5))\n",

    "\n",

    "env.run()"

   ]

  },

  {

   "cell_type": "markdown",

   "metadata": {},

   "source": [

    "Add models for generating time to failure/repair\n",

    "Repair: As good as new"

   ]

  },

  {

   "cell_type": "code",

   "execution_count": 13,

   "metadata": {},

   "outputs": [

    {

     "name": "stdout",

     "output_type": "stream",

     "text": [

      "Machine 3 failure starts at 1.83\n",

      "Machine 3 repair starts at 1.83\n",

      "Machine 3 is repaired at 6.52\n",

      "Machine 3 failure starts at 11.56\n",

      "Machine 3 repair starts at 11.56\n",

      "Machine 3 is repaired at 11.67\n",

      "Machine 3 failure starts at 18.08\n",

      "Machine 3 repair starts at 18.08\n",

      "Machine 3 is repaired at 20.13\n",

      "Machine 1 failure starts at 28.24\n",

      "Machine 1 repair starts at 28.24\n",

      "Machine 1 is repaired at 29.68\n",

      "Machine 0 failure starts at 32.38\n",

      "Machine 0 repair starts at 32.38\n",

      "Machine 0 is repaired at 32.90\n",

      "Machine 3 failure starts at 36.33\n",

      "Machine 3 repair starts at 36.33\n",

      "Machine 3 is repaired at 39.75\n",

      "Machine 1 failure starts at 59.92\n",

      "Machine 1 repair starts at 59.92\n",

      "Machine 1 is repaired at 63.51\n",

      "Machine 0 failure starts at 74.84\n",

      "Machine 0 repair starts at 74.84\n",

      "Machine 1 failure starts at 74.94\n",

      "Machine 1 repair starts at 74.94\n",

      "Machine 0 is repaired at 76.61\n",

      "Machine 3 failure starts at 77.13\n",

      "Machine 3 repair starts at 77.13\n",

      "Machine 1 is repaired at 78.80\n",

      "Machine 3 is repaired at 86.68\n",

      "Machine 1 failure starts at 89.89\n",

      "Machine 1 repair starts at 89.89\n",

      "Machine 1 is repaired at 95.58\n"

     ]

    }

   ],

   "source": [

    "class RandomTime:\n",

    "    def __init__(self, list_para, distribution_type):\n",

    "        self.distr = distribution_type\n",

    "        self.para = list_para\n",

    "\n",

    "    def time_to_event(self):\n",

    "        if self.distr == 'Weibull':\n",

    "            return random.weibullvariate(self.para[0], self.para[1]);\n",

    "        elif self.distr == 'Lognormal':\n",

    "            return random.weibullvariate(self.para[0], self.para[1]);\n",

    "        else: \n",

    "            print('Unknown Distribution')\n",

    "        \n",

    "def machine(env, name, crew, failure_model, repair_model):\n",

    "    while True:\n",

    "        # Simulate time_to_failure\n",

    "        yield env.timeout(failure_model.time_to_event())\n",

    "\n",

    "        # Request one of its crew\n",

    "        print('%s failure starts at %.2f' % (name, env.now))\n",

    "        with crew.request() as req:\n",

    "            yield req\n",

    "\n",

    "            # Repair\n",

    "            print('%s repair starts at %.2f' % (name, env.now))\n",

    "            yield env.timeout(repair_model.time_to_event())\n",

    "            print('%s is repaired at %.2f' % (name, env.now))\n",

    "\n",

    "import simpy\n",

    "env = simpy.Environment()\n",

    "crew = simpy.Resource(env, capacity=2)\n",

    "failure_model = RandomTime([30,1], \"Weibull\")\n",

    "repair_model = RandomTime([5,1], \"Lognormal\")\n",

    "\n",

    "for i in range(4):\n",

    "    env.process(machine(env, 'Machine %d' % i, crew, failure_model, repair_model))\n",

    "\n",

    "env.run(until = 100)"

   ]

  },

  {

   "cell_type": "markdown",

   "metadata": {},

   "source": [

    "Add restoration factor\n"

   ]

  },

  {

   "cell_type": "code",

   "execution_count": 20,

   "metadata": {},

   "outputs": [

    {

     "name": "stdout",

     "output_type": "stream",

     "text": [

      "time to next failure is 3.88\n",

      "time to next failure is 12.61\n",

      "time to next failure is 68.02\n",

      "time to next failure is 21.92\n",

      "Machine 0 failure starts at 3.88\n",

      "Machine 0 repair starts at 3.88\n",

      "Machine 0 is repaired at 9.24\n",

      "time to next failure is 38.09\n",

      "Machine 1 failure starts at 12.61\n",

      "Machine 1 repair starts at 12.61\n",

      "Machine 3 failure starts at 21.92\n",

      "Machine 3 repair starts at 21.92\n",

      "Machine 1 is repaired at 28.42\n",

      "time to next failure is 104.45\n",

      "Machine 3 is repaired at 32.29\n",

      "time to next failure is 35.75\n",

      "Machine 0 failure starts at 47.32\n",

      "Machine 0 repair starts at 47.32\n",

      "Machine 0 is repaired at 47.84\n",

      "time to next failure is 8.94\n",

      "Machine 0 failure starts at 56.78\n",

      "Machine 0 repair starts at 56.78\n",

      "Machine 0 is repaired at 58.07\n",

      "time to next failure is 8.72\n",

      "Machine 0 failure starts at 66.79\n",

      "Machine 0 repair starts at 66.79\n",

      "Machine 2 failure starts at 68.02\n",

      "Machine 2 repair starts at 68.02\n",

      "Machine 3 failure starts at 68.04\n",

      "Machine 2 is repaired at 70.81\n",

      "time to next failure is 23.96\n",

      "Machine 3 repair starts at 70.81\n",

      "Machine 3 is repaired at 73.56\n",

      "time to next failure is 17.41\n",

      "Machine 0 is repaired at 75.58\n",

      "time to next failure is 22.29\n",

      "Machine 3 failure starts at 90.97\n",

      "Machine 3 repair starts at 90.97\n",

      "Machine 2 failure starts at 94.77\n",

      "Machine 2 repair starts at 94.77\n",

      "Machine 3 is repaired at 94.83\n",

      "time to next failure is 6.90\n",

      "Machine 2 is repaired at 95.82\n",

      "time to next failure is 1.48\n",

      "Machine 2 failure starts at 97.29\n",

      "Machine 2 repair starts at 97.29\n",

      "Machine 0 failure starts at 97.87\n",

      "Machine 0 repair starts at 97.87\n"

     ]

    }

   ],

   "source": [

    "class RandomTime:\n",

    "    # set current_time = 0, and restoration factor (rf) = 0 unless explicitly defined \n",

    "    def __init__(self, env, list_para, distribution_type, restoration_factor = 1):\n",

    "        self.env = env\n",

    "        self.distr = distribution_type\n",

    "        self.para = list_para\n",

    "        self.current_time = self.env.now\n",

    "        self.rf = restoration_factor\n",

    "\n",

    "\n",

    "    def time_to_event(self):\n",

    "        if self.distr == 'Weibull':\n",

    "            # calculate virtual time first\n",

    "            v_time = self.current_time * (1 - self.rf)\n",

    "            # conditional weibull random time to fail\n",

    "            alpha = self.para[0]\n",

    "            beta = self.para[1]\n",

    "            ttf = alpha * (((v_time/alpha) ** beta - \\\n",

    "                     np.log(1-np.random.random_sample())) **(1. /beta)) - \\\n",

    "                     v_time + self.current_time\n",

    "            print(\"time to next failure is %.2f\" % ttf)\n",

    "            return ttf;\n",

    "        elif self.distr == 'Lognormal':\n",

    "            return random.weibullvariate(self.para[0], self.para[1]);\n",

    "        else: \n",

    "            print('Unknown Distribution')\n",

    "        \n",

    "def machine(env, name, crew, failure_model, repair_model):\n",

    "    while True:\n",

    "        # Simulate time_to_failure\n",

    "        yield env.timeout(failure_model.time_to_event())\n",

    "\n",

    "        # Request one of its crew\n",

    "        print('%s failure starts at %.2f' % (name, env.now))\n",

    "        with crew.request() as req:\n",

    "            yield req\n",

    "\n",

    "            # Repair\n",

    "            print('%s repair starts at %.2f' % (name, env.now))\n",

    "            yield env.timeout(repair_model.time_to_event())\n",

    "            print('%s is repaired at %.2f' % (name, env.now))\n",

    "\n",

    "\n",

    "env = simpy.Environment()\n",

    "crew = simpy.Resource(env, capacity=2)\n",

    "failure_model = RandomTime(env, [30,1], \"Weibull\", 0.5)\n",

    "repair_model = RandomTime(env, [5,1], \"Lognormal\")\n",

    "for i in range(4):\n",

    "    env.process(machine(env, 'Machine %d' % i, crew, failure_model, repair_model))\n",

    "env.run(until = 100)"

   ]

  },

  {

   "cell_type": "markdown",

   "metadata": {},

   "source": [

    "Add system log\n",

    "As the code below, it is usable for simple RBD:\n",

    "- All machines are running independently\n",

    "- System down will not bring individual machine down. \n",

    "- System reliability metrics will be calculated from the event_log. \n",

    "- Restoration factor: 1 - \"as-good-as-new\", 0: \"as-bad-as-old\""

   ]

  },

  {

   "cell_type": "code",

   "execution_count": 28,

   "metadata": {},

   "outputs": [

    {

     "name": "stdout",

     "output_type": "stream",

     "text": [

      "time to next failure is 20.48\n",

      "time to next failure is 3.65\n",

      "time to next failure is 33.92\n",

      "time to next failure is 78.89\n",

      "Machine 1 failure starts at 3.65\n",

      "Machine 1 repair starts at 3.65\n",

      "Machine 1 is repaired at 4.84\n",

      "time to next failure is 12.22\n",

      "Machine 1 failure starts at 17.07\n",

      "Machine 1 repair starts at 17.07\n",

      "Machine 1 is repaired at 19.87\n",

      "time to next failure is 17.04\n",

      "Machine 0 failure starts at 20.48\n",

      "Machine 0 repair starts at 20.48\n",

      "Machine 0 is repaired at 22.59\n",

      "time to next failure is 22.96\n",

      "Machine 2 failure starts at 33.92\n",

      "Machine 2 repair starts at 33.92\n",

      "Machine 2 is repaired at 35.63\n",

      "time to next failure is 41.01\n",

      "Machine 1 failure starts at 36.91\n",

      "Machine 1 repair starts at 36.91\n",

      "Machine 0 failure starts at 45.54\n",

      "Machine 0 repair starts at 45.54\n",

      "Machine 0 is repaired at 47.66\n",

      "time to next failure is 55.81\n",

      "Machine 1 is repaired at 56.63\n",

      "time to next failure is 10.39\n",

      "Machine 1 failure starts at 67.02\n",

      "Machine 1 repair starts at 67.02\n",

     "Machine 1 is repaired at 67.30\n",

      "time to next failure is 28.97\n",

      "Machine 2 failure starts at 76.65\n",

      "Machine 2 repair starts at 76.65\n",

      "Machine 3 failure starts at 78.89\n",

      "Machine 3 repair starts at 78.89\n",

      "Machine 3 is repaired at 82.18\n",

      "time to next failure is 8.07\n",

      "Machine 2 is repaired at 85.38\n",

      "time to next failure is 0.71\n",

      "Machine 2 failure starts at 86.09\n",

      "Machine 2 repair starts at 86.09\n",

      "Machine 3 failure starts at 90.25\n",

      "Machine 3 repair starts at 90.25\n",

      "Machine 2 is repaired at 91.37\n",

      "time to next failure is 92.61\n",

      "Machine 1 failure starts at 96.27\n",

      "Machine 1 repair starts at 96.27\n"

     ]

    }

   ],

   "source": [

    "class EventLog:\n",

    "    def __init__(self):\n",

    "        self.event_time = []\n",

    "        self.event_type = []\n",

    "        self.event_machine_name = []\n",

    "\n",

    "class RandomTime:\n",

    "    # set current_time = 0, and restoration factor (rf) = 0 unless explicitly defined \n",

    "    def __init__(self, env, list_para, distribution_type, restoration_factor = 1):\n",

    "        self.env = env\n",

    "        self.distr = distribution_type\n",

    "        self.para = list_para\n",

    "        self.current_time = self.env.now\n",

    "        self.rf = restoration_factor\n",

    "\n",

    "\n",

    "    def time_to_event(self):\n",

    "        if self.distr == 'Weibull':\n",

    "            # calculate virtual time first\n",

    "            v_time = self.current_time * (1 - self.rf)\n",

    "            # conditional weibull random time to fail\n",

    "            alpha = self.para[0]\n",

    "            beta = self.para[1]\n",

    "            ttf = alpha * (((v_time/alpha) ** beta - \\\n",

    "                     np.log(1-np.random.random_sample())) **(1. /beta)) - \\\n",

    "                     v_time\n",

    "            print(\"time to next failure is %.2f\" % ttf)\n",

   "            return ttf;\n",

    "        elif self.distr == 'Lognormal':\n",

    "            return random.weibullvariate(self.para[0], self.para[1]);\n",

    "        else: \n",

    "            print('Unknown Distribution')\n",

    "        \n",

    "def machine(env, name, crew, failure_model, repair_model, event_log):\n",

    "    v_time = 0\n",

    "    while True:\n",

    "        # Simulate time_to_failure\n",

    "        ttf = failure_model.time_to_event()\n",

    "        yield env.timeout(ttf)\n",

    "        # Request one of its crew\n",

    "        print('%s failure starts at %.2f' % (name, env.now))\n",

    "        event_log.event_time.append(env.now)\n",

    "        event_log.event_type.append(\"down\")\n",

    "        event_log.event_machine_name.append(name)\n",

    "        with crew.request() as req:\n",

    "            yield req\n",

    "\n",

    "            # Repair\n",

    "            print('%s repair starts at %.2f' % (name, env.now))\n",

    "            yield env.timeout(repair_model.time_to_event())\n",

    "            print('%s is repaired at %.2f' % (name, env.now))\n",

    "            event_log.event_time.append(env.now)\n",

    "            event_log.event_type.append(\"up\")\n",

    "            event_log.event_machine_name.append(name)\n",

    "\n",

    "\n",

    "env = simpy.Environment()\n",

    "event_log = EventLog()\n",

    "crew = simpy.Resource(env, capacity=2)\n",

    "failure_model = RandomTime(env, [30,1], \"Weibull\", 0.5)\n",

    "repair_model = RandomTime(env, [5,1], \"Lognormal\")\n",

    "for i in range(4):\n",

    "    env.process(machine(env, 'Machine %d' % i, crew, failure_model, repair_model, event_log))\n",

    "env.run(until = 100)"

   ]

  },

  {

   "cell_type": "code",

   "execution_count": 26,

   "metadata": {},

   "outputs": [

    {

     "name": "stdout",

     "output_type": "stream",

     "text": [

      "[5.310712025548332, 7.2957733289668587, 12.585041660347915, 18.516376857515169, 23.989317361404844, 29.308940842140231, 31.868518295914377, 31.940594750363648, 53.810172950466281, 54.994527946452656, 77.010916333973768, 79.529758745681391] \n",

      " ['down', 'down', 'up', 'down', 'up', 'down', 'up', 'up', 'down', 'up', 'down', 'up'] \n",

      " ['Machine 2', 'Machine 1', 'Machine 1', 'Machine 1', 'Machine 2', 'Machine 2', 'Machine 1', 'Machine 2', 'Machine 0', 'Machine 0', 'Machine 0', 'Machine 0']\n"

     ]

    }

   ],

   "source": [

    "print(event_log.event_time, \"\\n\", event_log.event_type, \"\\n\", event_log.event_machine_name)"

   ]

  },

  {

   "cell_type": "code",

   "execution_count": null,

   "metadata": {},

   "outputs": [],

   "source": []

  }

],

"metadata": {

  "kernelspec": {

   "display_name": "Python 3",

   "language": "python",

   "name": "python3"

  },

  "language_info": {

   "codemirror_mode": {

    "name": "ipython",

    "version": 3

   },

   "file_extension": ".py",

   "mimetype": "text/x-python",

   "name": "python",

   "nbconvert_exporter": "python",

   "pygments_lexer": "ipython3",

   "version": "3.6.4"

  }

},

"nbformat": 4,

"nbformat_minor": 2

}
